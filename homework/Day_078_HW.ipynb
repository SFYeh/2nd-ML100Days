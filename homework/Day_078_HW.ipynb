{
 "cells": [
  {
   "cell_type": "markdown",
   "metadata": {},
   "source": [
    "## Work\n",
    "1. 請嘗試將 preproc_x 替換成以每筆資料的 min/max 進行標準化至 -1 ~ 1 間，再進行訓練\n",
    "2. 請嘗試將 mlp 疊更深 (e.g 5~10 層)，進行訓練後觀察 learning curve 的走勢\n",
    "3. (optional) 請改用 GPU 進行訓練 (如果你有 GPU 的話)，比較使用 CPU 與 GPU 的訓練速度"
   ]
  },
  {
   "cell_type": "code",
   "execution_count": 2,
   "metadata": {},
   "outputs": [
    {
     "name": "stderr",
     "output_type": "stream",
     "text": [
      "'nvidia-smi.exe' 不是內部或外部命令、可執行的程式或批次檔。\n"
     ]
    }
   ],
   "source": [
    "## \n",
    "\"\"\"\n",
    "Your code here (optional)\n",
    "確認硬體資源\n",
    "在文件夹C:\\Program Files\\NVIDIA Corporation\\NVSMI里找到文件nvidia-smi.exe，把该文件拖到命令提示符窗口（win+R，再输入‘CMD’进入），就可以显示关于GPU的信息\n",
    "\"\"\""
   ]
  },
  {
   "cell_type": "code",
   "execution_count": 1,
   "metadata": {},
   "outputs": [
    {
     "name": "stderr",
     "output_type": "stream",
     "text": [
      "Using TensorFlow backend.\n"
     ]
    }
   ],
   "source": [
    "import os\n",
    "import keras\n",
    "\n",
    "# 請嘗試設定 GPU：os.environ\n",
    "os.environ[\"CUDA_VISIBLE_DEVICES\"] = '0'"
   ]
  },
  {
   "cell_type": "code",
   "execution_count": 2,
   "metadata": {},
   "outputs": [],
   "source": [
    "train, test = keras.datasets.cifar10.load_data()"
   ]
  },
  {
   "cell_type": "code",
   "execution_count": 17,
   "metadata": {},
   "outputs": [],
   "source": [
    "## 資料前處理\n",
    "\"\"\"\n",
    "Your code here\n",
    "\"\"\"\n",
    "def preproc_x(x, flatten=True):\n",
    "    x = x / 255.\n",
    "    if flatten:\n",
    "        x = x.reshape((len(x), -1))\n",
    "    return x\n",
    "\n",
    "def preproc_y(y, num_classes=10):\n",
    "    if y.shape[-1] == 1:\n",
    "        y = keras.utils.to_categorical(y, num_classes)\n",
    "    return y    "
   ]
  },
  {
   "cell_type": "code",
   "execution_count": 18,
   "metadata": {},
   "outputs": [],
   "source": [
    "x_train, y_train = train\n",
    "x_test, y_test = test\n",
    "\n",
    "# Preproc the inputs\n",
    "x_train = preproc_x(x_train)\n",
    "x_test = preproc_x(x_test)\n",
    "\n",
    "# Preprc the outputs\n",
    "y_train = preproc_y(y_train)\n",
    "y_test = preproc_y(y_test)"
   ]
  },
  {
   "cell_type": "code",
   "execution_count": 6,
   "metadata": {},
   "outputs": [
    {
     "name": "stdout",
     "output_type": "stream",
     "text": [
      "_________________________________________________________________\n",
      "Layer (type)                 Output Shape              Param #   \n",
      "=================================================================\n",
      "input_2 (InputLayer)         (None, 3072)              0         \n",
      "_________________________________________________________________\n",
      "hidden_layer1 (Dense)        (None, 512)               1573376   \n",
      "_________________________________________________________________\n",
      "hidden_layer2 (Dense)        (None, 256)               131328    \n",
      "_________________________________________________________________\n",
      "hidden_layer3 (Dense)        (None, 128)               32896     \n",
      "_________________________________________________________________\n",
      "output (Dense)               (None, 10)                1290      \n",
      "=================================================================\n",
      "Total params: 1,738,890\n",
      "Trainable params: 1,738,890\n",
      "Non-trainable params: 0\n",
      "_________________________________________________________________\n"
     ]
    }
   ],
   "source": [
    "\"\"\"Code Here\n",
    "建立你的神經網路\n",
    "\"\"\"\n",
    "def build_mlp(input_shape, output_units=10, num_neurons=[512, 256, 128]):\n",
    "    input_layer = keras.layers.Input(input_shape)\n",
    "    \n",
    "    for i, n_units in enumerate(num_neurons):\n",
    "        if i == 0:\n",
    "            x = keras.layers.Dense(units=n_units, activation=\"relu\", name=\"hidden_layer\"+str(i+1))(input_layer)\n",
    "        else:\n",
    "            x = keras.layers.Dense(units=n_units, activation=\"relu\", name=\"hidden_layer\"+str(i+1))(x)\n",
    "    \n",
    "    out = keras.layers.Dense(units=output_units, activation=\"softmax\", name=\"output\")(x)\n",
    "    \n",
    "    model = keras.models.Model(inputs=[input_layer], outputs=[out])\n",
    "    return model\n",
    "model = build_mlp(input_shape=x_train.shape[1:])\n",
    "model.summary()"
   ]
  },
  {
   "cell_type": "code",
   "execution_count": 7,
   "metadata": {},
   "outputs": [],
   "source": [
    "## 超參數設定\n",
    "LEARNING_RATE = 0.001\n",
    "EPOCHS = 100\n",
    "BATCH_SIZE = 256"
   ]
  },
  {
   "cell_type": "code",
   "execution_count": 8,
   "metadata": {},
   "outputs": [
    {
     "name": "stdout",
     "output_type": "stream",
     "text": [
      "WARNING:tensorflow:From D:\\programfiles\\Anaconda3\\lib\\site-packages\\keras\\optimizers.py:790: The name tf.train.Optimizer is deprecated. Please use tf.compat.v1.train.Optimizer instead.\n",
      "\n",
      "WARNING:tensorflow:From D:\\programfiles\\Anaconda3\\lib\\site-packages\\keras\\backend\\tensorflow_backend.py:3295: The name tf.log is deprecated. Please use tf.math.log instead.\n",
      "\n"
     ]
    }
   ],
   "source": [
    "optimizer = keras.optimizers.Adam(lr=LEARNING_RATE)\n",
    "model.compile(loss=\"categorical_crossentropy\", metrics=[\"accuracy\"], optimizer=optimizer)"
   ]
  },
  {
   "cell_type": "code",
   "execution_count": 9,
   "metadata": {},
   "outputs": [
    {
     "name": "stdout",
     "output_type": "stream",
     "text": [
      "WARNING:tensorflow:From D:\\programfiles\\Anaconda3\\lib\\site-packages\\tensorflow_core\\python\\ops\\math_grad.py:1424: where (from tensorflow.python.ops.array_ops) is deprecated and will be removed in a future version.\n",
      "Instructions for updating:\n",
      "Use tf.where in 2.0, which has the same broadcast rule as np.where\n",
      "WARNING:tensorflow:From D:\\programfiles\\Anaconda3\\lib\\site-packages\\keras\\backend\\tensorflow_backend.py:986: The name tf.assign_add is deprecated. Please use tf.compat.v1.assign_add instead.\n",
      "\n",
      "WARNING:tensorflow:From D:\\programfiles\\Anaconda3\\lib\\site-packages\\keras\\backend\\tensorflow_backend.py:973: The name tf.assign is deprecated. Please use tf.compat.v1.assign instead.\n",
      "\n",
      "WARNING:tensorflow:From D:\\programfiles\\Anaconda3\\lib\\site-packages\\keras\\backend\\tensorflow_backend.py:2741: The name tf.Session is deprecated. Please use tf.compat.v1.Session instead.\n",
      "\n",
      "Train on 50000 samples, validate on 10000 samples\n",
      "Epoch 1/100\n",
      "WARNING:tensorflow:From D:\\programfiles\\Anaconda3\\lib\\site-packages\\keras\\backend\\tensorflow_backend.py:174: The name tf.get_default_session is deprecated. Please use tf.compat.v1.get_default_session instead.\n",
      "\n",
      "WARNING:tensorflow:From D:\\programfiles\\Anaconda3\\lib\\site-packages\\keras\\backend\\tensorflow_backend.py:181: The name tf.ConfigProto is deprecated. Please use tf.compat.v1.ConfigProto instead.\n",
      "\n",
      "WARNING:tensorflow:From D:\\programfiles\\Anaconda3\\lib\\site-packages\\keras\\backend\\tensorflow_backend.py:190: The name tf.global_variables is deprecated. Please use tf.compat.v1.global_variables instead.\n",
      "\n",
      "WARNING:tensorflow:From D:\\programfiles\\Anaconda3\\lib\\site-packages\\keras\\backend\\tensorflow_backend.py:199: The name tf.is_variable_initialized is deprecated. Please use tf.compat.v1.is_variable_initialized instead.\n",
      "\n",
      "WARNING:tensorflow:From D:\\programfiles\\Anaconda3\\lib\\site-packages\\keras\\backend\\tensorflow_backend.py:206: The name tf.variables_initializer is deprecated. Please use tf.compat.v1.variables_initializer instead.\n",
      "\n",
      "50000/50000 [==============================] - 8s 169us/step - loss: 1.9583 - acc: 0.2928 - val_loss: 1.8139 - val_acc: 0.3539\n",
      "Epoch 2/100\n",
      "50000/50000 [==============================] - 8s 160us/step - loss: 1.7295 - acc: 0.3792 - val_loss: 1.6506 - val_acc: 0.4143\n",
      "Epoch 3/100\n",
      "50000/50000 [==============================] - 7s 142us/step - loss: 1.6246 - acc: 0.4200 - val_loss: 1.5785 - val_acc: 0.4398\n",
      "Epoch 4/100\n",
      "50000/50000 [==============================] - 7s 143us/step - loss: 1.5681 - acc: 0.4418 - val_loss: 1.5640 - val_acc: 0.4351\n",
      "Epoch 5/100\n",
      "50000/50000 [==============================] - 7s 147us/step - loss: 1.5128 - acc: 0.4596 - val_loss: 1.4911 - val_acc: 0.4740\n",
      "Epoch 6/100\n",
      "50000/50000 [==============================] - 7s 149us/step - loss: 1.4773 - acc: 0.4745 - val_loss: 1.5084 - val_acc: 0.4561\n",
      "Epoch 7/100\n",
      "50000/50000 [==============================] - 8s 156us/step - loss: 1.4415 - acc: 0.4869 - val_loss: 1.4770 - val_acc: 0.4707\n",
      "Epoch 8/100\n",
      "50000/50000 [==============================] - 9s 177us/step - loss: 1.4058 - acc: 0.4983 - val_loss: 1.4281 - val_acc: 0.4920\n",
      "Epoch 9/100\n",
      "50000/50000 [==============================] - 8s 165us/step - loss: 1.3824 - acc: 0.5071 - val_loss: 1.4859 - val_acc: 0.4677\n",
      "Epoch 10/100\n",
      "50000/50000 [==============================] - 8s 157us/step - loss: 1.3514 - acc: 0.5197 - val_loss: 1.4206 - val_acc: 0.4995\n",
      "Epoch 11/100\n",
      "50000/50000 [==============================] - 9s 178us/step - loss: 1.3316 - acc: 0.5248 - val_loss: 1.4816 - val_acc: 0.4740\n",
      "Epoch 12/100\n",
      "50000/50000 [==============================] - 9s 174us/step - loss: 1.3072 - acc: 0.5352 - val_loss: 1.3917 - val_acc: 0.5067\n",
      "Epoch 13/100\n",
      "50000/50000 [==============================] - 8s 167us/step - loss: 1.2730 - acc: 0.5468 - val_loss: 1.3710 - val_acc: 0.5146\n",
      "Epoch 14/100\n",
      "50000/50000 [==============================] - 8s 164us/step - loss: 1.2476 - acc: 0.5577 - val_loss: 1.4145 - val_acc: 0.5023\n",
      "Epoch 15/100\n",
      "50000/50000 [==============================] - 8s 165us/step - loss: 1.2319 - acc: 0.5600 - val_loss: 1.3522 - val_acc: 0.5184\n",
      "Epoch 16/100\n",
      "50000/50000 [==============================] - 8s 164us/step - loss: 1.2150 - acc: 0.5667 - val_loss: 1.4142 - val_acc: 0.4963\n",
      "Epoch 17/100\n",
      "50000/50000 [==============================] - 9s 182us/step - loss: 1.2018 - acc: 0.5680 - val_loss: 1.3935 - val_acc: 0.5024\n",
      "Epoch 18/100\n",
      "50000/50000 [==============================] - 8s 166us/step - loss: 1.1744 - acc: 0.5808 - val_loss: 1.3914 - val_acc: 0.5163\n",
      "Epoch 19/100\n",
      "50000/50000 [==============================] - 7s 149us/step - loss: 1.1559 - acc: 0.5887 - val_loss: 1.3939 - val_acc: 0.5128\n",
      "Epoch 20/100\n",
      "50000/50000 [==============================] - 9s 186us/step - loss: 1.1327 - acc: 0.5972 - val_loss: 1.3722 - val_acc: 0.5171\n",
      "Epoch 21/100\n",
      "50000/50000 [==============================] - 9s 173us/step - loss: 1.1076 - acc: 0.6035 - val_loss: 1.3850 - val_acc: 0.5174\n",
      "Epoch 22/100\n",
      "50000/50000 [==============================] - 9s 185us/step - loss: 1.0891 - acc: 0.6088 - val_loss: 1.3548 - val_acc: 0.5308\n",
      "Epoch 23/100\n",
      "50000/50000 [==============================] - 8s 166us/step - loss: 1.0646 - acc: 0.6219 - val_loss: 1.3701 - val_acc: 0.5323\n",
      "Epoch 24/100\n",
      "50000/50000 [==============================] - 8s 163us/step - loss: 1.0490 - acc: 0.6263 - val_loss: 1.3935 - val_acc: 0.5076\n",
      "Epoch 25/100\n",
      "50000/50000 [==============================] - 8s 156us/step - loss: 1.0377 - acc: 0.6310 - val_loss: 1.3733 - val_acc: 0.5296\n",
      "Epoch 26/100\n",
      "50000/50000 [==============================] - 8s 153us/step - loss: 1.0162 - acc: 0.6369 - val_loss: 1.4038 - val_acc: 0.5214\n",
      "Epoch 27/100\n",
      "50000/50000 [==============================] - 8s 156us/step - loss: 0.9980 - acc: 0.6452 - val_loss: 1.3976 - val_acc: 0.5244\n",
      "Epoch 28/100\n",
      "50000/50000 [==============================] - 9s 175us/step - loss: 0.9778 - acc: 0.6509 - val_loss: 1.4304 - val_acc: 0.5196\n",
      "Epoch 29/100\n",
      "50000/50000 [==============================] - 8s 164us/step - loss: 0.9664 - acc: 0.6550 - val_loss: 1.4215 - val_acc: 0.5202\n",
      "Epoch 30/100\n",
      "50000/50000 [==============================] - 8s 163us/step - loss: 0.9432 - acc: 0.6636 - val_loss: 1.4256 - val_acc: 0.5308\n",
      "Epoch 31/100\n",
      "50000/50000 [==============================] - 8s 170us/step - loss: 0.9308 - acc: 0.6672 - val_loss: 1.4267 - val_acc: 0.5248\n",
      "Epoch 32/100\n",
      "50000/50000 [==============================] - 8s 168us/step - loss: 0.9034 - acc: 0.6778 - val_loss: 1.4529 - val_acc: 0.5282\n",
      "Epoch 33/100\n",
      "50000/50000 [==============================] - 8s 157us/step - loss: 0.8894 - acc: 0.6829 - val_loss: 1.4523 - val_acc: 0.5258\n",
      "Epoch 34/100\n",
      "50000/50000 [==============================] - 8s 160us/step - loss: 0.8837 - acc: 0.6835 - val_loss: 1.4599 - val_acc: 0.5284\n",
      "Epoch 35/100\n",
      "50000/50000 [==============================] - 8s 169us/step - loss: 0.8526 - acc: 0.6954 - val_loss: 1.4737 - val_acc: 0.5300\n",
      "Epoch 36/100\n",
      "50000/50000 [==============================] - 8s 166us/step - loss: 0.8375 - acc: 0.7015 - val_loss: 1.4845 - val_acc: 0.5282\n",
      "Epoch 37/100\n",
      "50000/50000 [==============================] - 9s 184us/step - loss: 0.8249 - acc: 0.7054 - val_loss: 1.5270 - val_acc: 0.5224\n",
      "Epoch 38/100\n",
      "50000/50000 [==============================] - 8s 160us/step - loss: 0.8016 - acc: 0.7128 - val_loss: 1.5332 - val_acc: 0.5269\n",
      "Epoch 39/100\n",
      "50000/50000 [==============================] - 9s 189us/step - loss: 0.7950 - acc: 0.7150 - val_loss: 1.5685 - val_acc: 0.5226\n",
      "Epoch 40/100\n",
      "50000/50000 [==============================] - 8s 163us/step - loss: 0.7797 - acc: 0.7211 - val_loss: 1.5864 - val_acc: 0.5171\n",
      "Epoch 41/100\n",
      "50000/50000 [==============================] - 8s 157us/step - loss: 0.7651 - acc: 0.7283 - val_loss: 1.6005 - val_acc: 0.5247\n",
      "Epoch 42/100\n",
      "50000/50000 [==============================] - 8s 167us/step - loss: 0.7521 - acc: 0.7324 - val_loss: 1.5861 - val_acc: 0.5322\n",
      "Epoch 43/100\n",
      "50000/50000 [==============================] - 8s 164us/step - loss: 0.7368 - acc: 0.7374 - val_loss: 1.6215 - val_acc: 0.5200\n",
      "Epoch 44/100\n",
      "50000/50000 [==============================] - 8s 158us/step - loss: 0.7178 - acc: 0.7445 - val_loss: 1.6409 - val_acc: 0.5161\n",
      "Epoch 45/100\n",
      "50000/50000 [==============================] - 8s 162us/step - loss: 0.7157 - acc: 0.7443 - val_loss: 1.6609 - val_acc: 0.5223\n",
      "Epoch 46/100\n",
      "50000/50000 [==============================] - 8s 158us/step - loss: 0.6791 - acc: 0.7581 - val_loss: 1.6618 - val_acc: 0.5325\n",
      "Epoch 47/100\n",
      "50000/50000 [==============================] - 9s 170us/step - loss: 0.6687 - acc: 0.7615 - val_loss: 1.7242 - val_acc: 0.5115\n",
      "Epoch 48/100\n",
      "50000/50000 [==============================] - 8s 157us/step - loss: 0.6735 - acc: 0.7606 - val_loss: 1.7206 - val_acc: 0.5264\n",
      "Epoch 49/100\n",
      "50000/50000 [==============================] - 8s 160us/step - loss: 0.6441 - acc: 0.7700 - val_loss: 1.7759 - val_acc: 0.5204\n",
      "Epoch 50/100\n",
      "50000/50000 [==============================] - 8s 158us/step - loss: 0.6289 - acc: 0.7734 - val_loss: 1.7650 - val_acc: 0.5259\n",
      "Epoch 51/100\n",
      "50000/50000 [==============================] - 9s 178us/step - loss: 0.6221 - acc: 0.7782 - val_loss: 1.8244 - val_acc: 0.5066\n",
      "Epoch 52/100\n",
      "50000/50000 [==============================] - 8s 161us/step - loss: 0.6153 - acc: 0.7802 - val_loss: 1.8471 - val_acc: 0.5178\n",
      "Epoch 53/100\n",
      "50000/50000 [==============================] - 8s 155us/step - loss: 0.5946 - acc: 0.7866 - val_loss: 1.8425 - val_acc: 0.5116\n",
      "Epoch 54/100\n",
      "50000/50000 [==============================] - 8s 164us/step - loss: 0.5825 - acc: 0.7919 - val_loss: 1.9434 - val_acc: 0.5052\n",
      "Epoch 55/100\n",
      "50000/50000 [==============================] - 8s 170us/step - loss: 0.5767 - acc: 0.7935 - val_loss: 1.9010 - val_acc: 0.5156\n",
      "Epoch 56/100\n",
      "50000/50000 [==============================] - 8s 167us/step - loss: 0.5640 - acc: 0.7992 - val_loss: 1.9193 - val_acc: 0.5044\n",
      "Epoch 57/100\n",
      "50000/50000 [==============================] - 9s 184us/step - loss: 0.5663 - acc: 0.7974 - val_loss: 1.9707 - val_acc: 0.5197\n",
      "Epoch 58/100\n",
      "50000/50000 [==============================] - 9s 179us/step - loss: 0.5438 - acc: 0.8072 - val_loss: 1.9897 - val_acc: 0.5122\n",
      "Epoch 59/100\n",
      "50000/50000 [==============================] - 8s 158us/step - loss: 0.5237 - acc: 0.8142 - val_loss: 2.0730 - val_acc: 0.5124\n",
      "Epoch 60/100\n",
      "50000/50000 [==============================] - 8s 163us/step - loss: 0.5451 - acc: 0.8043 - val_loss: 2.0301 - val_acc: 0.5134\n",
      "Epoch 61/100\n",
      "50000/50000 [==============================] - 8s 160us/step - loss: 0.5158 - acc: 0.8163 - val_loss: 2.1179 - val_acc: 0.5045\n",
      "Epoch 62/100\n",
      "50000/50000 [==============================] - 8s 152us/step - loss: 0.4947 - acc: 0.8237 - val_loss: 2.0989 - val_acc: 0.5112\n",
      "Epoch 63/100\n",
      "50000/50000 [==============================] - 8s 158us/step - loss: 0.4828 - acc: 0.8289 - val_loss: 2.1392 - val_acc: 0.5165\n",
      "Epoch 64/100\n",
      "50000/50000 [==============================] - 8s 161us/step - loss: 0.4872 - acc: 0.8250 - val_loss: 2.1570 - val_acc: 0.5101\n",
      "Epoch 65/100\n",
      "50000/50000 [==============================] - 8s 159us/step - loss: 0.4934 - acc: 0.8241 - val_loss: 2.2506 - val_acc: 0.5034\n",
      "Epoch 66/100\n",
      "50000/50000 [==============================] - 9s 175us/step - loss: 0.4760 - acc: 0.8305 - val_loss: 2.1965 - val_acc: 0.5099\n",
      "Epoch 67/100\n",
      "50000/50000 [==============================] - 9s 188us/step - loss: 0.4750 - acc: 0.8305 - val_loss: 2.2579 - val_acc: 0.4995\n",
      "Epoch 68/100\n",
      "50000/50000 [==============================] - 8s 167us/step - loss: 0.4649 - acc: 0.8344 - val_loss: 2.3129 - val_acc: 0.5003\n",
      "Epoch 69/100\n",
      "50000/50000 [==============================] - 9s 182us/step - loss: 0.4483 - acc: 0.8390 - val_loss: 2.2791 - val_acc: 0.4997\n",
      "Epoch 70/100\n",
      "50000/50000 [==============================] - 8s 165us/step - loss: 0.4461 - acc: 0.8418 - val_loss: 2.3385 - val_acc: 0.5097\n",
      "Epoch 71/100\n",
      "50000/50000 [==============================] - 8s 168us/step - loss: 0.4402 - acc: 0.8437 - val_loss: 2.2980 - val_acc: 0.5028\n",
      "Epoch 72/100\n",
      "50000/50000 [==============================] - 8s 161us/step - loss: 0.4231 - acc: 0.8488 - val_loss: 2.3533 - val_acc: 0.5024\n",
      "Epoch 73/100\n",
      "50000/50000 [==============================] - 8s 166us/step - loss: 0.4233 - acc: 0.8479 - val_loss: 2.3920 - val_acc: 0.5041\n",
      "Epoch 74/100\n",
      "50000/50000 [==============================] - 8s 156us/step - loss: 0.4211 - acc: 0.8504 - val_loss: 2.4846 - val_acc: 0.5061\n",
      "Epoch 75/100\n",
      "50000/50000 [==============================] - 8s 155us/step - loss: 0.4174 - acc: 0.8514 - val_loss: 2.4142 - val_acc: 0.5018\n",
      "Epoch 76/100\n",
      "50000/50000 [==============================] - 8s 158us/step - loss: 0.4134 - acc: 0.8524 - val_loss: 2.4301 - val_acc: 0.5065\n",
      "Epoch 77/100\n",
      "50000/50000 [==============================] - 8s 154us/step - loss: 0.3825 - acc: 0.8641 - val_loss: 2.5156 - val_acc: 0.5056\n",
      "Epoch 78/100\n",
      "50000/50000 [==============================] - 9s 175us/step - loss: 0.3748 - acc: 0.8660 - val_loss: 2.5442 - val_acc: 0.5083\n",
      "Epoch 79/100\n",
      "50000/50000 [==============================] - 9s 176us/step - loss: 0.3683 - acc: 0.8691 - val_loss: 2.5712 - val_acc: 0.5020\n",
      "Epoch 80/100\n",
      "50000/50000 [==============================] - 9s 185us/step - loss: 0.3791 - acc: 0.8626 - val_loss: 2.5638 - val_acc: 0.4957\n",
      "Epoch 81/100\n",
      "50000/50000 [==============================] - 9s 177us/step - loss: 0.3849 - acc: 0.8604 - val_loss: 2.7065 - val_acc: 0.4955\n",
      "Epoch 82/100\n",
      "50000/50000 [==============================] - 9s 180us/step - loss: 0.3875 - acc: 0.8633 - val_loss: 2.6771 - val_acc: 0.4963\n",
      "Epoch 83/100\n",
      "50000/50000 [==============================] - 9s 185us/step - loss: 0.3604 - acc: 0.8710 - val_loss: 2.5625 - val_acc: 0.5029\n",
      "Epoch 84/100\n",
      "50000/50000 [==============================] - 9s 181us/step - loss: 0.3636 - acc: 0.8680 - val_loss: 2.7518 - val_acc: 0.4977\n",
      "Epoch 85/100\n",
      "50000/50000 [==============================] - 8s 167us/step - loss: 0.3286 - acc: 0.8825 - val_loss: 2.6860 - val_acc: 0.5033\n",
      "Epoch 86/100\n",
      "50000/50000 [==============================] - 9s 178us/step - loss: 0.3556 - acc: 0.8724 - val_loss: 2.7172 - val_acc: 0.5071\n",
      "Epoch 87/100\n",
      "50000/50000 [==============================] - 9s 182us/step - loss: 0.3648 - acc: 0.8683 - val_loss: 2.7227 - val_acc: 0.4966\n",
      "Epoch 88/100\n",
      "50000/50000 [==============================] - 9s 185us/step - loss: 0.3386 - acc: 0.8783 - val_loss: 2.8212 - val_acc: 0.5007\n",
      "Epoch 89/100\n",
      "50000/50000 [==============================] - 8s 153us/step - loss: 0.3165 - acc: 0.8882 - val_loss: 2.9557 - val_acc: 0.4880\n",
      "Epoch 90/100\n",
      "50000/50000 [==============================] - 8s 168us/step - loss: 0.3341 - acc: 0.8783 - val_loss: 2.8385 - val_acc: 0.5028\n",
      "Epoch 91/100\n",
      "50000/50000 [==============================] - 8s 162us/step - loss: 0.3202 - acc: 0.8853 - val_loss: 2.8588 - val_acc: 0.5020\n",
      "Epoch 92/100\n",
      "50000/50000 [==============================] - 8s 158us/step - loss: 0.3285 - acc: 0.8802 - val_loss: 2.9214 - val_acc: 0.4976\n",
      "Epoch 93/100\n",
      "50000/50000 [==============================] - 8s 159us/step - loss: 0.3341 - acc: 0.8773 - val_loss: 2.9426 - val_acc: 0.4936\n",
      "Epoch 94/100\n",
      "50000/50000 [==============================] - 8s 157us/step - loss: 0.3102 - acc: 0.8873 - val_loss: 2.9015 - val_acc: 0.4970\n",
      "Epoch 95/100\n",
      "50000/50000 [==============================] - 8s 164us/step - loss: 0.3113 - acc: 0.8885 - val_loss: 2.9403 - val_acc: 0.4970\n",
      "Epoch 96/100\n",
      "50000/50000 [==============================] - 8s 156us/step - loss: 0.3055 - acc: 0.8901 - val_loss: 3.0488 - val_acc: 0.4980\n",
      "Epoch 97/100\n",
      "50000/50000 [==============================] - 9s 184us/step - loss: 0.3153 - acc: 0.8860 - val_loss: 2.9673 - val_acc: 0.5029\n",
      "Epoch 98/100\n",
      "50000/50000 [==============================] - 9s 187us/step - loss: 0.2961 - acc: 0.8942 - val_loss: 3.0265 - val_acc: 0.5013\n",
      "Epoch 99/100\n",
      "50000/50000 [==============================] - 9s 170us/step - loss: 0.2953 - acc: 0.8929 - val_loss: 3.0379 - val_acc: 0.5004\n",
      "Epoch 100/100\n",
      "50000/50000 [==============================] - 9s 180us/step - loss: 0.2787 - acc: 0.8997 - val_loss: 3.0292 - val_acc: 0.5023\n"
     ]
    },
    {
     "data": {
      "text/plain": [
       "<keras.callbacks.History at 0x238459ceec8>"
      ]
     },
     "execution_count": 9,
     "metadata": {},
     "output_type": "execute_result"
    }
   ],
   "source": [
    "model.fit(x_train, y_train, \n",
    "          epochs=EPOCHS, \n",
    "          batch_size=BATCH_SIZE, \n",
    "          validation_data=(x_test, y_test), \n",
    "          shuffle=True)"
   ]
  },
  {
   "cell_type": "code",
   "execution_count": 11,
   "metadata": {},
   "outputs": [
    {
     "data": {
      "image/png": "[encoded data removed]",
      "text/plain": [
       "<Figure size 432x288 with 1 Axes>"
      ]
     },
     "metadata": {
      "needs_background": "light"
     },
     "output_type": "display_data"
    },
    {
     "data": {
      "image/png": "[encoded data removed]",
      "text/plain": [
       "<Figure size 432x288 with 1 Axes>"
      ]
     },
     "metadata": {
      "needs_background": "light"
     },
     "output_type": "display_data"
    }
   ],
   "source": [
    "import matplotlib.pyplot as plt\n",
    "\n",
    "\n",
    "train_loss = model.history.history[\"loss\"]\n",
    "valid_loss = model.history.history[\"val_loss\"]\n",
    "\n",
    "train_acc = model.history.history[\"acc\"]\n",
    "valid_acc = model.history.history[\"val_acc\"]\n",
    "\n",
    "plt.plot(range(len(train_loss)), train_loss, label=\"train loss\")\n",
    "plt.plot(range(len(valid_loss)), valid_loss, label=\"valid loss\")\n",
    "plt.legend()\n",
    "plt.title(\"Loss\")\n",
    "plt.show()\n",
    "\n",
    "plt.plot(range(len(train_acc)), train_acc, label=\"train accuracy\")\n",
    "plt.plot(range(len(valid_acc)), valid_acc, label=\"valid accuracy\")\n",
    "plt.legend()\n",
    "plt.title(\"Accuracy\")\n",
    "plt.show()"
   ]
  }
 ],
 "metadata": {
  "kernelspec": {
   "display_name": "Python 3",
   "language": "python",
   "name": "python3"
  },
  "language_info": {
   "codemirror_mode": {
    "name": "ipython",
    "version": 3
   },
   "file_extension": ".py",
   "mimetype": "text/x-python",
   "name": "python",
   "nbconvert_exporter": "python",
   "pygments_lexer": "ipython3",
   "version": "3.7.4"
  }
 },
 "nbformat": 4,
 "nbformat_minor": 2
}
